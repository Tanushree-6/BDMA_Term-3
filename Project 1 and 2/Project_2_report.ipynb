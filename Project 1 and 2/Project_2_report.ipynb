{
  "nbformat": 4,
  "nbformat_minor": 0,
  "metadata": {
    "colab": {
      "provenance": [],
      "collapsed_sections": [
        "hFSDccIcv1w2"
      ]
    },
    "kernelspec": {
      "name": "python3",
      "display_name": "Python 3"
    },
    "language_info": {
      "name": "python"
    }
  },
  "cells": [
    {
      "cell_type": "markdown",
      "source": [
        "# **Project Report: Agri Market Place for Farmers and Buyers**\n",
        "\n",
        "## **Part B: Data Optimization and Performance Testing**\n",
        "\n",
        "### Submitted by:\n",
        "\n",
        "Rahul Bajaj & Tanushree Nangia\n",
        "\n",
        "Roll No: 055036, 055052\n",
        "\n",
        "Group: 17\n",
        "\n",
        "Section: K\n",
        "\n",
        "\n",
        "\n",
        "### **1. Project Information**\n",
        "- **Project Title:** Agri Marketplace Database Management\n",
        "- **Domain:** Agriculture & E-commerce\n",
        "- **Technology Used:** MySQL\n",
        "- **Scope:** Optimizing database design through normalization, stress testing, and table alterations.\n",
        "\n",
        "### **2. Description of Data**\n",
        "The data used in this analysis originates from multiple structured tables in the database. The Transactions table provides detailed records of sales and purchases between farmers and buyers, capturing crucial information such as product type, quantity, and transaction dates. The Payments table facilitates tracking of completed and pending payments, ensuring financial transparency in the marketplace. The Product Categories table aids in organizing products by type and analyzing demand trends. These data elements collectively help in understanding buying patterns, transaction volumes, and financial performance, which are crucial for optimizing database efficiency and ensuring seamless operations.\n",
        "\n",
        "### **3. Problem Statements**\n",
        "Despite implementing a relational database, challenges such as data redundancy, slow query performance, and the need for better transactional efficiency persisted. The project focuses on restructuring tables to adhere to First Normal Form (1NF), enhancing data retrieval through indexing, and evaluating system performance under heavy loads via stress testing. These improvements aim to boost efficiency, scalability, and overall system reliability.\n",
        "\n",
        "\n",
        "### **4. Objectives**\n",
        "- Tables were successfully altered to accommodate necessary structural improvements.\n",
        "-\tThe database adheres to 1NF, ensuring a well-organized and efficient data model.\n",
        "-\tStress testing indicated that the system performs well under moderate load but may need indexing improvements for high transaction volumes.\n",
        "-\tQuery performance improved significantly after optimizing table structures and indexing.\n",
        "\n",
        "\n",
        "\n",
        "\n",
        "### **5. Analysis**\n",
        " - **Table Alterations:** Existing tables were altered to improve structure and accommodate better data relationships.\n",
        " -\t**First Normal Form (1NF) Compliance:** Ensured that all tables have atomic attributes, eliminating duplicate data and improving data retrieval efficiency.\n",
        " -\t**Stress Testing:** Conducted to evaluate the database's performance under heavy transactional loads, measuring response times and query execution speeds.\n",
        " -\t**Query Optimization:** Adjustments were made to improve indexing, reduce redundant queries, and enhance overall system efficiency.\n",
        "\n",
        "\n",
        "### **6. Observations & Findings**\n",
        "- Tables were successfully altered to accommodate necessary structural improvements.\n",
        "-\tThe database adheres to 1NF, ensuring a well-organized and efficient data model.\n",
        "- Stress testing indicated that the system performs well under moderate load but may need indexing improvements for high transaction volumes.\n",
        "-\tQuery performance improved significantly after optimizing table structures and indexing.\n",
        "-\tThe database system demonstrated improved response times and scalability, making it better suited for real-world usage.\n",
        "\n",
        "\n",
        "### **7. Managerial Insights**\n",
        "- Further normalization to 2NF and 3NF can enhance efficiency and eliminate partial dependencies.\n",
        "-\tImplement additional indexing strategies to further boost query execution speed under high-load conditions.\n",
        "-\tConduct periodic stress testing to monitor performance as database size and transaction volumes grow.\n",
        "-\tAutomate database maintenance tasks such as indexing updates and query optimization to ensure smooth long-term operations.\n",
        "-\tConsider partitioning large tables to distribute data more effectively and improve performance under heavy loads.\n",
        "\n",
        "\n",
        "#### **Conclusion**\n",
        "The optimization and performance testing of the Agri Market Place database demonstrated significant improvements in data structure, query performance, and system efficiency. Ensuring 1NF compliance eliminated redundancy, while stress testing provided insights into potential scalability challenges. By implementing indexing strategies and periodic performance monitoring, the system can be further enhanced to support larger transactional volumes and real-time analytics. Future enhancements should focus on higher normalization, indexing refinements, and automated database maintenance to ensure long-term reliability and operational efficiency."
      ],
      "metadata": {
        "id": "hFSDccIcv1w2"
      }
    },
    {
      "cell_type": "code",
      "source": [],
      "metadata": {
        "id": "Pst9htaG4UMk"
      },
      "execution_count": null,
      "outputs": []
    }
  ]
}